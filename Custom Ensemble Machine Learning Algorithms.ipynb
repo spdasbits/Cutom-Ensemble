{
 "cells": [
  {
   "cell_type": "markdown",
   "metadata": {},
   "source": [
    "## Custom Ensemble Machine Learning Algorithms"
   ]
  },
  {
   "cell_type": "code",
   "execution_count": 4,
   "metadata": {},
   "outputs": [],
   "source": [
    "## Creating synthetic Data Points\n",
    "from sklearn.datasets import make_classification\n",
    "# define dataset\n",
    "X, y = make_classification(n_samples=1000, n_features=20, n_informative=15, n_redundant=5, random_state=1)"
   ]
  },
  {
   "cell_type": "code",
   "execution_count": 7,
   "metadata": {},
   "outputs": [
    {
     "data": {
      "text/plain": [
       "array([[  2.47475454,   0.40165523,   1.68081787, ...,  -6.59044146,\n",
       "         -2.21290585,  -3.139579  ],\n",
       "       [  0.84802507,   2.81841945,  -2.76008732, ...,   3.00844461,\n",
       "          0.78661954,  -1.27681551],\n",
       "       [ -1.90041246,  -0.56901823,  -1.76220236, ...,   3.37336417,\n",
       "         -2.28613707,   1.90344983],\n",
       "       ...,\n",
       "       [  0.7673844 ,  -2.91920559,   2.80851577, ...,   4.42591832,\n",
       "          0.46321196,  -3.30523346],\n",
       "       [  2.05510667,  -0.99009741,   0.73577291, ...,   3.05100898,\n",
       "         -1.40715279,  -0.51579331],\n",
       "       [-10.96847792,  -2.39810735,  -0.96700953, ..., -11.16298557,\n",
       "          1.16646392,   0.60835176]])"
      ]
     },
     "execution_count": 7,
     "metadata": {},
     "output_type": "execute_result"
    }
   ],
   "source": [
    "X"
   ]
  },
  {
   "cell_type": "code",
   "execution_count": 5,
   "metadata": {},
   "outputs": [],
   "source": [
    "from collections import Counter\n",
    "counter=Counter(y)"
   ]
  },
  {
   "cell_type": "code",
   "execution_count": 6,
   "metadata": {},
   "outputs": [
    {
     "data": {
      "text/plain": [
       "Counter({0: 501, 1: 499})"
      ]
     },
     "execution_count": 6,
     "metadata": {},
     "output_type": "execute_result"
    }
   ],
   "source": [
    "counter"
   ]
  },
  {
   "cell_type": "code",
   "execution_count": 8,
   "metadata": {},
   "outputs": [],
   "source": [
    "from sklearn.tree import DecisionTreeClassifier\n",
    "from sklearn.ensemble import RandomForestClassifier\n",
    "from sklearn.svm import SVC\n",
    "from sklearn.model_selection import cross_val_score\n",
    "from sklearn.model_selection import RepeatedStratifiedKFold\n",
    "from sklearn.ensemble import VotingClassifier\n",
    "from sklearn.pipeline import Pipeline\n",
    "\n",
    "# get models\n",
    "# get a voting ensemble of models\n",
    "# define the base models\n",
    "models = list()\n",
    "\n",
    "decision_tree = Pipeline([('m', DecisionTreeClassifier())])\n",
    "models.append(('decision', decision_tree))\n",
    "\n",
    "randomforest = Pipeline([('m', RandomForestClassifier())])\n",
    "models.append(('randomforest', randomforest))\n",
    "\n",
    "svc = Pipeline([('m', SVC())])\n",
    "models.append(('svc', svc))\n",
    "# define the voting ensemble\n",
    "ensemble = VotingClassifier(estimators=models, voting='hard')\n"
   ]
  },
  {
   "cell_type": "code",
   "execution_count": 9,
   "metadata": {},
   "outputs": [
    {
     "data": {
      "text/plain": [
       "[('decision', Pipeline(steps=[('m', DecisionTreeClassifier())])),\n",
       " ('randomforest', Pipeline(steps=[('m', RandomForestClassifier())])),\n",
       " ('svc', Pipeline(steps=[('m', SVC())]))]"
      ]
     },
     "execution_count": 9,
     "metadata": {},
     "output_type": "execute_result"
    }
   ],
   "source": [
    "models"
   ]
  },
  {
   "cell_type": "code",
   "execution_count": 10,
   "metadata": {},
   "outputs": [
    {
     "data": {
      "text/plain": [
       "VotingClassifier(estimators=[('decision',\n",
       "                              Pipeline(steps=[('m',\n",
       "                                               DecisionTreeClassifier())])),\n",
       "                             ('randomforest',\n",
       "                              Pipeline(steps=[('m',\n",
       "                                               RandomForestClassifier())])),\n",
       "                             ('svc', Pipeline(steps=[('m', SVC())]))])"
      ]
     },
     "execution_count": 10,
     "metadata": {},
     "output_type": "execute_result"
    }
   ],
   "source": [
    "ensemble"
   ]
  },
  {
   "cell_type": "code",
   "execution_count": 11,
   "metadata": {},
   "outputs": [],
   "source": [
    "cv = RepeatedStratifiedKFold(n_splits=10, n_repeats=3, random_state=1)\n",
    "n_scores = cross_val_score(ensemble, X, y, scoring='accuracy', cv=cv, n_jobs=-1)"
   ]
  },
  {
   "cell_type": "code",
   "execution_count": 12,
   "metadata": {},
   "outputs": [
    {
     "data": {
      "text/plain": [
       "array([0.94, 0.96, 0.94, 0.92, 0.9 , 0.96, 0.94, 0.93, 0.95, 0.94, 0.96,\n",
       "       0.9 , 0.91, 0.95, 0.94, 0.94, 0.95, 0.95, 0.96, 0.96, 0.94, 0.97,\n",
       "       0.96, 0.96, 0.91, 0.89, 0.97, 0.94, 0.94, 0.89])"
      ]
     },
     "execution_count": 12,
     "metadata": {},
     "output_type": "execute_result"
    }
   ],
   "source": [
    "n_scores"
   ]
  },
  {
   "cell_type": "code",
   "execution_count": 14,
   "metadata": {},
   "outputs": [
    {
     "data": {
      "text/plain": [
       "0.9390000000000002"
      ]
     },
     "execution_count": 14,
     "metadata": {},
     "output_type": "execute_result"
    }
   ],
   "source": [
    "n_scores.mean()"
   ]
  },
  {
   "cell_type": "code",
   "execution_count": null,
   "metadata": {},
   "outputs": [],
   "source": []
  }
 ],
 "metadata": {
  "kernelspec": {
   "display_name": "Python 3",
   "language": "python",
   "name": "python3"
  },
  "language_info": {
   "codemirror_mode": {
    "name": "ipython",
    "version": 3
   },
   "file_extension": ".py",
   "mimetype": "text/x-python",
   "name": "python",
   "nbconvert_exporter": "python",
   "pygments_lexer": "ipython3",
   "version": "3.7.7"
  }
 },
 "nbformat": 4,
 "nbformat_minor": 4
}
